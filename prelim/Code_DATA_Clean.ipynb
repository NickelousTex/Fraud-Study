{
 "cells": [
  {
   "cell_type": "code",
   "execution_count": 1,
   "metadata": {},
   "outputs": [],
   "source": [
    "import pandas as pd"
   ]
  },
  {
   "cell_type": "code",
   "execution_count": 70,
   "metadata": {},
   "outputs": [],
   "source": [
    "df = pd.read_json('data/data.json')"
   ]
  },
  {
   "cell_type": "code",
   "execution_count": 71,
   "metadata": {},
   "outputs": [],
   "source": [
    "#needed to verify & create currency match column\n",
    "Country_dictionary= {'IE': 'EUR', 'FR': 'EUR', 'ES': 'EUR', 'NL': 'EUR', 'DE': 'EUR', 'BE': 'EUR', 'AT': 'EUR', 'PT': 'EUR', 'IT': 'EUR', 'HU': 'EUR', 'RO': 'EUR', 'CZ': 'EUR', 'FI': 'EUR', 'HR': 'EUR', 'BG': 'EUR', 'SI': 'EUR', 'SE': 'EUR', 'DK': 'EUR', 'US': 'USD', 'CA': 'CAD', 'GB': 'GBP', 'AU': 'AUD', 'NZ': 'NZD', 'MX': 'MXN'}\n",
    "#needed for drop all unneeded columns\n",
    "DROP = ['approx_payout_date', 'body_length', \n",
    "        'description','email_domain',\n",
    "       'event_created', 'event_end', 'event_published', 'event_start',\n",
    "       'has_header',\n",
    "       'listed', 'name', 'name_length', 'num_payouts',\n",
    "       'object_id', 'org_desc', 'org_facebook', 'org_name', 'org_twitter',\n",
    "       'payee_name', 'sale_duration',\n",
    "       'sale_duration2',  'ticket_types', \n",
    "       'user_created', 'user_type', 'venue_address', 'venue_country',\n",
    "       'venue_latitude', 'venue_longitude', 'venue_name', 'venue_state','payout_type','previous_payouts',\n",
    "       'country','currency', 'length_before_event', 'event_published']"
   ]
  },
  {
   "cell_type": "code",
   "execution_count": 73,
   "metadata": {},
   "outputs": [],
   "source": [
    "fraud = ['fraudster_event','spammer_warn', 'fraudster',\n",
    "       'spammer_limited', 'spammer_noinvite', 'locked', 'tos_lock',\n",
    "       'tos_warn', 'fraudster_att', 'spammer_web', 'spammer']"
   ]
  },
  {
   "cell_type": "code",
   "execution_count": 74,
   "metadata": {},
   "outputs": [],
   "source": [
    "df['acct_type'].replace(fraud,1,inplace=True)\n",
    "df['acct_type'].replace('premium',0,inplace=True)"
   ]
  },
  {
   "cell_type": "code",
   "execution_count": 75,
   "metadata": {},
   "outputs": [],
   "source": [
    "#Needed new Columns\n",
    "## Clean Code\n",
    "df['event_length'] = df['event_end'] - df['event_start']\n",
    "df['length_before_event'] = df['event_published'] - df['event_created']\n",
    "df['event_published_present'] = df['event_published']\n",
    "df['event_published_present'] = df['event_published_present'].isna()\n",
    "df['event_published_present'].replace(to_replace=[False, True], value=[2,3], inplace=True)\n",
    "df['event_published_present'].replace(to_replace=[2,3], value=[1,0], inplace=True)"
   ]
  },
  {
   "cell_type": "code",
   "execution_count": 76,
   "metadata": {},
   "outputs": [
    {
     "name": "stderr",
     "output_type": "stream",
     "text": [
      "/home/pipingkid/anaconda3/lib/python3.6/site-packages/ipykernel_launcher.py:1: SettingWithCopyWarning: \n",
      "A value is trying to be set on a copy of a slice from a DataFrame\n",
      "\n",
      "See the caveats in the documentation: http://pandas.pydata.org/pandas-docs/stable/indexing.html#indexing-view-versus-copy\n",
      "  \"\"\"Entry point for launching an IPython kernel.\n",
      "/home/pipingkid/anaconda3/lib/python3.6/site-packages/ipykernel_launcher.py:2: SettingWithCopyWarning: \n",
      "A value is trying to be set on a copy of a slice from a DataFrame\n",
      "\n",
      "See the caveats in the documentation: http://pandas.pydata.org/pandas-docs/stable/indexing.html#indexing-view-versus-copy\n",
      "  \n",
      "/home/pipingkid/anaconda3/lib/python3.6/site-packages/ipykernel_launcher.py:3: SettingWithCopyWarning: \n",
      "A value is trying to be set on a copy of a slice from a DataFrame\n",
      "\n",
      "See the caveats in the documentation: http://pandas.pydata.org/pandas-docs/stable/indexing.html#indexing-view-versus-copy\n",
      "  This is separate from the ipykernel package so we can avoid doing imports until\n"
     ]
    }
   ],
   "source": [
    "df['payout_type'][df['payout_type'] == 'ACH'] = 'ACH'\n",
    "df['payout_type'][df['payout_type'] == 'CHECK'] = 'CHECK'\n",
    "df['payout_type'][df['payout_type'] == ''] = 'No payout_type listed'\n",
    "#new previous payouts\n",
    "df['num_previous_payouts'] = list(map(len, df['previous_payouts']))"
   ]
  },
  {
   "cell_type": "code",
   "execution_count": 77,
   "metadata": {},
   "outputs": [],
   "source": [
    "#inplace methods\n",
    "df['country'].replace('', None,inplace = True)\n",
    "df['delivery_method'].fillna(value=4,inplace=True)\n",
    "df['currency_match']=(df['country'].map(Country_dictionary) == df['currency']).replace([True,False],[1,0]) \n",
    "df['venue_name_exits'] = df['venue_name'].isnull().replace([False, True], [0,1])       \n"
   ]
  },
  {
   "cell_type": "code",
   "execution_count": 78,
   "metadata": {},
   "outputs": [
    {
     "name": "stderr",
     "output_type": "stream",
     "text": [
      "/home/pipingkid/anaconda3/lib/python3.6/site-packages/ipykernel_launcher.py:3: SettingWithCopyWarning: \n",
      "A value is trying to be set on a copy of a slice from a DataFrame\n",
      "\n",
      "See the caveats in the documentation: http://pandas.pydata.org/pandas-docs/stable/indexing.html#indexing-view-versus-copy\n",
      "  This is separate from the ipykernel package so we can avoid doing imports until\n",
      "/home/pipingkid/anaconda3/lib/python3.6/site-packages/ipykernel_launcher.py:5: SettingWithCopyWarning: \n",
      "A value is trying to be set on a copy of a slice from a DataFrame\n",
      "\n",
      "See the caveats in the documentation: http://pandas.pydata.org/pandas-docs/stable/indexing.html#indexing-view-versus-copy\n",
      "  \"\"\"\n",
      "/home/pipingkid/anaconda3/lib/python3.6/site-packages/ipykernel_launcher.py:7: SettingWithCopyWarning: \n",
      "A value is trying to be set on a copy of a slice from a DataFrame\n",
      "\n",
      "See the caveats in the documentation: http://pandas.pydata.org/pandas-docs/stable/indexing.html#indexing-view-versus-copy\n",
      "  import sys\n",
      "/home/pipingkid/anaconda3/lib/python3.6/site-packages/ipykernel_launcher.py:9: SettingWithCopyWarning: \n",
      "A value is trying to be set on a copy of a slice from a DataFrame\n",
      "\n",
      "See the caveats in the documentation: http://pandas.pydata.org/pandas-docs/stable/indexing.html#indexing-view-versus-copy\n",
      "  if __name__ == '__main__':\n",
      "/home/pipingkid/anaconda3/lib/python3.6/site-packages/ipykernel_launcher.py:12: SettingWithCopyWarning: \n",
      "A value is trying to be set on a copy of a slice from a DataFrame\n",
      "\n",
      "See the caveats in the documentation: http://pandas.pydata.org/pandas-docs/stable/indexing.html#indexing-view-versus-copy\n",
      "  if sys.path[0] == '':\n"
     ]
    }
   ],
   "source": [
    "#hard code dummies\n",
    "df['email_gmail'] = 0\n",
    "df['email_gmail'][df['email_domain'].str.contains('gmail')] = 1\n",
    "df['email_yahoo'] = 0\n",
    "df['email_yahoo'][df['email_domain'].str.contains('yahoo')] = 1\n",
    "df['email_aol'] = 0\n",
    "df['email_aol'][df['email_domain'].str.contains('aol')] = 1\n",
    "df['email_hotmail'] = 0\n",
    "df['email_hotmail'][df['email_domain'].str.contains('hotmail')] = 1\n",
    "# user age listed dummy variable\n",
    "df['user_age_listed'] = True\n",
    "df['user_age_listed'][df['user_age'] == 0] = False"
   ]
  },
  {
   "cell_type": "code",
   "execution_count": 79,
   "metadata": {},
   "outputs": [],
   "source": [
    "#get dummies\n",
    "country_dummies = pd.get_dummies(df['country'])\n",
    "currency_dummies = pd.get_dummies(df['currency'])\n",
    "delivery_dummy = pd.get_dummies(df['delivery_method'])\n",
    "payout_type = pd.get_dummies(df['payout_type'])\n"
   ]
  },
  {
   "cell_type": "code",
   "execution_count": 80,
   "metadata": {},
   "outputs": [],
   "source": [
    "#dummy variables to concate at end\n",
    "dummy_add = [df, country_dummies, currency_dummies, delivery_dummy, payout_type]"
   ]
  },
  {
   "cell_type": "code",
   "execution_count": 81,
   "metadata": {},
   "outputs": [],
   "source": [
    "#Drop Everything We Don't Need -- CAREFUL\n",
    "df.drop(DROP,axis = 1,inplace=True) "
   ]
  },
  {
   "cell_type": "code",
   "execution_count": 82,
   "metadata": {},
   "outputs": [
    {
     "name": "stdout",
     "output_type": "stream",
     "text": [
      "<class 'pandas.core.frame.DataFrame'>\n",
      "RangeIndex: 14337 entries, 0 to 14336\n",
      "Data columns (total 20 columns):\n",
      "acct_type                  14337 non-null int64\n",
      "channels                   14337 non-null int64\n",
      "delivery_method            14337 non-null float64\n",
      "fb_published               14337 non-null int64\n",
      "gts                        14337 non-null float64\n",
      "has_analytics              14337 non-null int64\n",
      "has_logo                   14337 non-null int64\n",
      "num_order                  14337 non-null int64\n",
      "show_map                   14337 non-null int64\n",
      "user_age                   14337 non-null int64\n",
      "event_length               14337 non-null int64\n",
      "event_published_present    14337 non-null int64\n",
      "num_previous_payouts       14337 non-null int64\n",
      "currency_match             14337 non-null int64\n",
      "venue_name_exits           14337 non-null int64\n",
      "email_gmail                14337 non-null int64\n",
      "email_yahoo                14337 non-null int64\n",
      "email_aol                  14337 non-null int64\n",
      "email_hotmail              14337 non-null int64\n",
      "user_age_listed            14337 non-null bool\n",
      "dtypes: bool(1), float64(2), int64(17)\n",
      "memory usage: 2.1 MB\n"
     ]
    }
   ],
   "source": [
    "df.info()"
   ]
  },
  {
   "cell_type": "code",
   "execution_count": 83,
   "metadata": {},
   "outputs": [],
   "source": [
    "#add it all together\n",
    "final_df = pd.concat(dummy_add, axis=1)"
   ]
  },
  {
   "cell_type": "code",
   "execution_count": 84,
   "metadata": {},
   "outputs": [
    {
     "name": "stdout",
     "output_type": "stream",
     "text": [
      "<class 'pandas.core.frame.DataFrame'>\n",
      "RangeIndex: 14337 entries, 0 to 14336\n",
      "Columns: 105 entries, acct_type to No payout_type listed\n",
      "dtypes: bool(1), float64(2), int64(17), uint8(85)\n",
      "memory usage: 3.3 MB\n"
     ]
    }
   ],
   "source": [
    "final_df.info()"
   ]
  },
  {
   "cell_type": "code",
   "execution_count": 86,
   "metadata": {},
   "outputs": [],
   "source": [
    "final_df.to_csv('data/cleaned_data.csv')"
   ]
  },
  {
   "cell_type": "code",
   "execution_count": 89,
   "metadata": {},
   "outputs": [
    {
     "name": "stdout",
     "output_type": "stream",
     "text": [
      "Index([            'acct_type',              'channels',\n",
      "             'delivery_method',          'fb_published',\n",
      "                         'gts',         'has_analytics',\n",
      "                    'has_logo',             'num_order',\n",
      "                    'show_map',              'user_age',\n",
      "       ...\n",
      "                         'MXN',                   'NZD',\n",
      "                         'USD',                     0.0,\n",
      "                           1.0,                     3.0,\n",
      "                           4.0,                   'ACH',\n",
      "                       'CHECK', 'No payout_type listed'],\n",
      "      dtype='object', length=105)\n"
     ]
    }
   ],
   "source": [
    "print(final_df.columns)"
   ]
  },
  {
   "cell_type": "code",
   "execution_count": null,
   "metadata": {},
   "outputs": [],
   "source": []
  }
 ],
 "metadata": {
  "kernelspec": {
   "display_name": "Python 3",
   "language": "python",
   "name": "python3"
  },
  "language_info": {
   "codemirror_mode": {
    "name": "ipython",
    "version": 3
   },
   "file_extension": ".py",
   "mimetype": "text/x-python",
   "name": "python",
   "nbconvert_exporter": "python",
   "pygments_lexer": "ipython3",
   "version": "3.6.6"
  }
 },
 "nbformat": 4,
 "nbformat_minor": 2
}
